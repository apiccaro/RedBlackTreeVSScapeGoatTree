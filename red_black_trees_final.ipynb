{
 "cells": [
  {
   "cell_type": "code",
   "execution_count": 25,
   "id": "e7b0eef8-b68c-4dec-999e-ae5c28c9db32",
   "metadata": {},
   "outputs": [],
   "source": [
    "import numpy as np\n",
    "import matplotlib.pyplot as plt"
   ]
  },
  {
   "cell_type": "code",
   "execution_count": 26,
   "id": "495813ee-5cbb-44c2-b80a-016c443a00c3",
   "metadata": {},
   "outputs": [],
   "source": [
    "class BSTNode():\n",
    "    # Node in a Binary Search Tree\n",
    "    # Nodes need to know: \n",
    "    ### their key (int)\n",
    "    ### their value (any data)\n",
    "    ### left child (BSTNode)\n",
    "    ### right child (BSTNode)\n",
    "    ### parent (BSTNode)\n",
    "    \n",
    "    def __init__(self, key, value, parent):\n",
    "        self.key = key\n",
    "        self.value = value\n",
    "        self.parent = parent\n",
    "        self.height=0\n",
    "        self.balance_factor=0\n",
    "        self.left_child = None\n",
    "        self.right_child = None"
   ]
  },
  {
   "cell_type": "code",
   "execution_count": 27,
   "id": "9af03473-af69-43b9-b9c7-9cc9f1b29c91",
   "metadata": {},
   "outputs": [],
   "source": [
    "class BSTree():\n",
    "    # Binary Search Tree Class\n",
    "    # needs to know:\n",
    "    #### root (BSTNode)\n",
    "    #### size (int)\n",
    "    # needs to do:\n",
    "    #### hasKey(key) - check for a key in the tree\n",
    "    #### add(key, value) - adds a (k,v) pair in a new node in the proper place in the tree.\n",
    "    #### get(key) - get the value associated with a key, or throw a keyerror\n",
    "    #### remove(key) - remove the node associated with a key\n",
    "    #### update(key, value) - reassign the value associated with key\n",
    "    #### search(key) - returns Node object associated with a key\n",
    "    \n",
    "    def __init__(self):\n",
    "        self.root = None\n",
    "        self.size = 0\n",
    "        self.allKey = []\n",
    "        \n",
    "        \n",
    "    def add(self, key, value):\n",
    "        self.allKey.append(key)\n",
    "        if self.root is None:\n",
    "            self.root = BSTNode(key, value, None)\n",
    "            self.size += 1\n",
    "            return self.root\n",
    "        else:\n",
    "            try:\n",
    "                return self.update(key, value)\n",
    "            except KeyError:\n",
    "                new_node = self.recursive_insert(self.root, key, value)\n",
    "                self.size += 1\n",
    "                return new_node\n",
    "                \n",
    "    def recursive_insert(self, sub_root, key, value):\n",
    "        if key < sub_root.key:\n",
    "            if sub_root.left_child is None:\n",
    "                sub_root.left_child = BSTNode(key, value, sub_root)\n",
    "                return sub_root.left_child\n",
    "            else:\n",
    "                return self.recursive_insert(sub_root.left_child, key, value)\n",
    "        else:\n",
    "            if sub_root.right_child is None:\n",
    "                sub_root.right_child = BSTNode(key, value, sub_root)\n",
    "                return sub_root.right_child\n",
    "            else:\n",
    "                return self.recursive_insert(sub_root.right_child, key, value)\n",
    "            \n",
    "    def update(self, key, value):\n",
    "        node = self.search(key)\n",
    "        node.value = value\n",
    "        return node\n",
    "    \n",
    "    def search(self, key):\n",
    "        return self.recursive_search(self.root, key)\n",
    "        \n",
    "    def recursive_search(self, sub_root, key):\n",
    "       # print(\"subroot\",sub_root.value)\n",
    "       # print(key,sub_root.value)\n",
    "        if sub_root.key == key:\n",
    "            return sub_root\n",
    "        else:\n",
    "           # print (self.allKey, key)\n",
    "            if key < sub_root.key:\n",
    "                \n",
    "                \n",
    "                if sub_root.left_child is None:\n",
    "                    raise KeyError\n",
    "                else:\n",
    "                    return self.recursive_search(sub_root.left_child, key)\n",
    "            else:\n",
    "                if sub_root.right_child is None:\n",
    "                    raise KeyError\n",
    "                else:\n",
    "                    return self.recursive_search(sub_root.right_child, key)\n",
    "\n",
    "    def hasKey(self, key):\n",
    "        try:\n",
    "            self.search(key)\n",
    "            return True\n",
    "        except KeyError:\n",
    "            return False\n",
    "\n",
    "    def get(self,key):\n",
    "        return self.search(key).value"
   ]
  },
  {
   "cell_type": "code",
   "execution_count": 28,
   "id": "45f6ff15-aa97-4c18-9827-953bcc7baab0",
   "metadata": {},
   "outputs": [],
   "source": [
    "class RBNode(BSTNode):\n",
    "     def __init(self,key,value,parent,):\n",
    "        super(RBNode, self).__init__(key,value,parent)\n",
    "        #red or black-0 for black 1 for red\n",
    "        #starts red when inserted \n",
    "        self.rOb=1"
   ]
  },
  {
   "cell_type": "code",
   "execution_count": 29,
   "id": "5c42c901-530e-4b71-a751-7ff71e9fe0d3",
   "metadata": {},
   "outputs": [],
   "source": [
    "class RBTree(BSTree):\n",
    "    def __init__(self):\n",
    "        super(RBTree,self).__init__()\n",
    "        \n",
    "    def add(self,key,value):\n",
    "        #add it using super\n",
    "        current=super(RBTree,self).add(key,value)\n",
    "        current.rOb=1\n",
    "        \n",
    "        #if it is the root-change to black\n",
    "        if current==self.root:\n",
    "            current.rOb=0\n",
    "       \n",
    "        elif current.parent is not None and current.parent.rOb !=0:\n",
    "            while(current is not self.root):\n",
    "                #print(current.value)\n",
    "                pibling=self.getpibling(current)\n",
    "           \n",
    "                \n",
    "                if pibling is not None and pibling.rOb==1:\n",
    "                        #print(\"red\")\n",
    "                        current=self.recolor(current,pibling)\n",
    "                        #if there is no grandparent of current- if recolor doesn't return grandparent \n",
    "                        #we recolored up to root and our work is done\n",
    "                        if current is None:\n",
    "                            break\n",
    "                        #if current is root loop will end-check at end of loop\n",
    "                else:#pibling is black \n",
    "                    #print(\"black\")\n",
    "                        #current needs to be rotated around grandfather so\n",
    "                    current=self.rotate(current)\n",
    "                        ##if rotate happens-no need to loop up rest of tree so\n",
    "                    break\n",
    "                #if pibling IS none-dont continue looping \n",
    "               \n",
    "            #case where current turns to the root inside loop\n",
    "            ###need to update the root color\n",
    "            if current == self.root:\n",
    "                current.rOb=0 \n",
    "        return current\n",
    "    \n",
    "    ###returns the pibling of the node if it exists and depnding on who is the pibling\n",
    "    def getpibling(self,current):\n",
    "        if current.parent is not None and current.parent.parent is not None:\n",
    "            if current.parent.parent.left_child is not current.parent and current.parent.parent.left_child is not None:\n",
    "                \n",
    "              \n",
    "                return current.parent.parent.left_child\n",
    "            elif current.parent.parent.right_child is not current.parent and current.parent.parent.right_child is not None:\n",
    "                return current.parent.parent.right_child\n",
    "            else:\n",
    "                return None\n",
    "    ##recolor case\n",
    "    def recolor(self,current,pibling):\n",
    "\n",
    "        current.parent.rOb=0#current parent is black\n",
    "\n",
    "        pibling.rOb=0# pibling is black\n",
    "        #if gparent exists than continue with gparent\n",
    "        if current.parent.parent is not None: \n",
    "            gparent=current.parent.parent\n",
    "            gparent.rOb=1 #gpa is red\n",
    "            #repeat for gpa so\n",
    "            return gparent\n",
    "        return None\n",
    "    ##rotate case\n",
    "    def rotate(self,current): \n",
    "        global numberRotations\n",
    "        numberRotations += 1\n",
    "        \n",
    "        parent=current.parent\n",
    "        gparent=parent.parent\n",
    "        #L-L\n",
    "        if gparent is not None and parent is gparent.left_child and current is parent.left_child:\n",
    "            #rotated around grandparent\n",
    "           # print(\"Ll\")\n",
    "            return self.left_left(current.parent.parent)\n",
    "        #L-R\n",
    "        if gparent is not None and parent is gparent.left_child and current is parent.right_child:\n",
    "           # print(\"Lr\")\n",
    "            return self.left_right(current.parent.parent)\n",
    "        #R-R\n",
    "        if gparent is not None and parent is gparent.right_child and current is parent.right_child:\n",
    "          #  print(\"Rr\")\n",
    "            return self.right_right(current.parent.parent)\n",
    "        #R-L\n",
    "        if gparent is not None and parent is gparent.right_child and current is parent.left_child:\n",
    "           # print(\"Rl\")\n",
    "            return self.right_left(current.parent.parent)\n",
    "        \n",
    "    def left_left(self,current):\n",
    "        left_child = current.left_child\n",
    "        if left_child is None:\n",
    "            current.left_child=current.right_child\n",
    "            current.right_child=None\n",
    "            left_child=current.left_child\n",
    "        current.left_child = left_child.right_child\n",
    "        if left_child.right_child is not None:\n",
    "            left_child.right_child.parent = current\n",
    "        left_child.parent = current.parent\n",
    "        if current.parent is None:\n",
    "            self.root = left_child\n",
    "        elif current is current.parent.right_child:\n",
    "            current.parent.right_child = left_child\n",
    "        else:\n",
    "            current.parent.left_child = left_child\n",
    "        left_child.right_child = current\n",
    "        current.parent = left_child\n",
    "        left_child.rOb=0\n",
    "        left_child.right_child.rOb=1\n",
    "        return(left_child)\n",
    "    def left_right(self,current):\n",
    "        current.left_child = self.right_right(current.left_child);\n",
    "        current.left_child.parent = current\n",
    "        current = self.left_left(current);\n",
    "        \n",
    "    def right_right(self,current):\n",
    "        right_child = current.right_child\n",
    "        if right_child is None:\n",
    "            current.right_child=current.left_child\n",
    "            current.left_child=None\n",
    "            right_child=current.right_child\n",
    "        current.right_child = right_child.left_child\n",
    "        if right_child.left_child is not None:\n",
    "            right_child.left_child.parent = current\n",
    "        right_child.parent = current.parent\n",
    "        if current.parent is None:\n",
    "            self.root = right_child\n",
    "        elif current is current.parent.left_child:\n",
    "            current.parent.left_child = right_child\n",
    "        else:\n",
    "            current.parent.right_child = right_child\n",
    "        right_child.left_child = current\n",
    "        current.parent = right_child\n",
    "        right_child.rOb=0\n",
    "        right_child.left_child.rOb=1\n",
    "        return(right_child)\n",
    "    def right_left(self,current):\n",
    "        current.right_child = self.left_left(current.right_child);\n",
    "        current.right_child.parent = current\n",
    "        current = self.right_right(current);"
   ]
  },
  {
   "cell_type": "code",
   "execution_count": 30,
   "id": "006b09b1-2c63-47fd-963a-8c67ea4ef48a",
   "metadata": {},
   "outputs": [],
   "source": [
    "import networkx as nx"
   ]
  },
  {
   "cell_type": "code",
   "execution_count": 31,
   "id": "83523ca8-c925-4d85-b72a-1bbdd75ab683",
   "metadata": {},
   "outputs": [],
   "source": [
    "def my_tree_to_nx_graph(tree):\n",
    "    graph = nx.Graph()\n",
    "    queue = [tree.root]\n",
    "    while len(queue) > 0:\n",
    "        new_node = queue.pop(0)\n",
    "        if(new_node.rOb==0):\n",
    "            graph.add_node(new_node.key, label=new_node.key, color=[0.0,1.0,0.0])\n",
    "        else:\n",
    "             graph.add_node(new_node.key, label=new_node.key, color=[1.0,0.0,0.0])\n",
    "        if new_node.parent is not None:\n",
    "            graph.add_edge(new_node.key, new_node.parent.key)\n",
    "        if new_node.left_child is not None:\n",
    "            queue.append(new_node.left_child)\n",
    "        if new_node.right_child is not None:\n",
    "            queue.append(new_node.right_child)\n",
    "    return graph"
   ]
  },
  {
   "cell_type": "code",
   "execution_count": 32,
   "id": "aa6d3e72-6c73-443b-91ea-09f466373e26",
   "metadata": {},
   "outputs": [
    {
     "ename": "NameError",
     "evalue": "name 'testTree' is not defined",
     "output_type": "error",
     "traceback": [
      "\u001b[1;31m---------------------------------------------------------------------------\u001b[0m",
      "\u001b[1;31mNameError\u001b[0m                                 Traceback (most recent call last)",
      "\u001b[1;32m~\\AppData\\Local\\Temp/ipykernel_45012/36174768.py\u001b[0m in \u001b[0;36m<module>\u001b[1;34m\u001b[0m\n\u001b[1;32m----> 1\u001b[1;33m \u001b[0mmy_bst_graph\u001b[0m \u001b[1;33m=\u001b[0m \u001b[0mmy_tree_to_nx_graph\u001b[0m\u001b[1;33m(\u001b[0m\u001b[0mtestTree\u001b[0m\u001b[1;33m)\u001b[0m\u001b[1;33m\u001b[0m\u001b[1;33m\u001b[0m\u001b[0m\n\u001b[0m",
      "\u001b[1;31mNameError\u001b[0m: name 'testTree' is not defined"
     ]
    }
   ],
   "source": [
    "my_bst_graph = my_tree_to_nx_graph(testTree)"
   ]
  },
  {
   "cell_type": "code",
   "execution_count": 33,
   "id": "983a69dd-337f-4b5e-85a4-e7f443c5a635",
   "metadata": {},
   "outputs": [
    {
     "ename": "NameError",
     "evalue": "name 'my_bst_graph' is not defined",
     "output_type": "error",
     "traceback": [
      "\u001b[1;31m---------------------------------------------------------------------------\u001b[0m",
      "\u001b[1;31mNameError\u001b[0m                                 Traceback (most recent call last)",
      "\u001b[1;32m~\\AppData\\Local\\Temp/ipykernel_45012/2768102640.py\u001b[0m in \u001b[0;36m<module>\u001b[1;34m\u001b[0m\n\u001b[1;32m----> 1\u001b[1;33m \u001b[0mlabels\u001b[0m \u001b[1;33m=\u001b[0m \u001b[0mnx\u001b[0m\u001b[1;33m.\u001b[0m\u001b[0mget_node_attributes\u001b[0m\u001b[1;33m(\u001b[0m\u001b[0mmy_bst_graph\u001b[0m\u001b[1;33m,\u001b[0m \u001b[1;34m'label'\u001b[0m\u001b[1;33m)\u001b[0m\u001b[1;33m\u001b[0m\u001b[1;33m\u001b[0m\u001b[0m\n\u001b[0m\u001b[0;32m      2\u001b[0m \u001b[0mcolors\u001b[0m\u001b[1;33m=\u001b[0m\u001b[0mlist\u001b[0m\u001b[1;33m(\u001b[0m\u001b[0mnx\u001b[0m\u001b[1;33m.\u001b[0m\u001b[0mget_node_attributes\u001b[0m\u001b[1;33m(\u001b[0m\u001b[0mmy_bst_graph\u001b[0m\u001b[1;33m,\u001b[0m \u001b[1;34m'color'\u001b[0m\u001b[1;33m)\u001b[0m\u001b[1;33m.\u001b[0m\u001b[0mvalues\u001b[0m\u001b[1;33m(\u001b[0m\u001b[1;33m)\u001b[0m\u001b[1;33m)\u001b[0m\u001b[1;33m\u001b[0m\u001b[1;33m\u001b[0m\u001b[0m\n\u001b[0;32m      3\u001b[0m \u001b[0mnx\u001b[0m\u001b[1;33m.\u001b[0m\u001b[0mdraw\u001b[0m\u001b[1;33m(\u001b[0m\u001b[0mmy_bst_graph\u001b[0m\u001b[1;33m,\u001b[0m \u001b[0mlabels\u001b[0m\u001b[1;33m=\u001b[0m\u001b[0mlabels\u001b[0m\u001b[1;33m,\u001b[0m\u001b[0mnode_color\u001b[0m\u001b[1;33m=\u001b[0m\u001b[0mcolors\u001b[0m\u001b[1;33m)\u001b[0m\u001b[1;33m\u001b[0m\u001b[1;33m\u001b[0m\u001b[0m\n",
      "\u001b[1;31mNameError\u001b[0m: name 'my_bst_graph' is not defined"
     ]
    }
   ],
   "source": [
    "labels = nx.get_node_attributes(my_bst_graph, 'label') \n",
    "colors=list(nx.get_node_attributes(my_bst_graph, 'color').values())\n",
    "nx.draw(my_bst_graph, labels=labels,node_color=colors)"
   ]
  },
  {
   "cell_type": "code",
   "execution_count": 13,
   "id": "7e341397-a65c-421e-ab25-2a168df8c872",
   "metadata": {},
   "outputs": [
    {
     "data": {
      "text/plain": [
       "7"
      ]
     },
     "execution_count": 13,
     "metadata": {},
     "output_type": "execute_result"
    }
   ],
   "source": [
    "testTree.root.key"
   ]
  },
  {
   "cell_type": "code",
   "execution_count": 97,
   "id": "a828c4b5",
   "metadata": {},
   "outputs": [],
   "source": [
    "import matplotlib.pyplot as plt"
   ]
  },
  {
   "cell_type": "code",
   "execution_count": 18,
   "id": "e36a4476",
   "metadata": {},
   "outputs": [],
   "source": [
    "def timeTrial(n):\n",
    "    import random \n",
    "    import time\n",
    "    listVal = []\n",
    "    tree = RBTree()\n",
    "\n",
    "    for nodes in range(n):\n",
    "        listVal.append(nodes)\n",
    "\n",
    "    random.shuffle(listVal)\n",
    "\n",
    "    timeStart = time.time()\n",
    "\n",
    "    for y in listVal:\n",
    "        #print(\"Add\",y)\n",
    "        tree.add(y, y)\n",
    "        \n",
    "    timeEnd = time.time()\n",
    "    #print(\"size\",tree.size)\n",
    "    return [ (timeEnd - timeStart), tree]\n",
    "    \n",
    "def searchTrial(theTree,numNodes):\n",
    "    import time\n",
    "    timeStart = time.time()\n",
    "    \n",
    "    for x in range(numNodes):\n",
    "        #print (x)\n",
    "        theTree.search(x)\n",
    "    \n",
    "    timeEnd = time.time()\n",
    "    \n",
    "    return timeEnd - timeStart"
   ]
  },
  {
   "cell_type": "code",
   "execution_count": 39,
   "id": "6fc38814",
   "metadata": {
    "tags": []
   },
   "outputs": [
    {
     "data": {
      "text/plain": [
       "Text(0.5, 0, 'Number of n in the Tree')"
      ]
     },
     "execution_count": 39,
     "metadata": {},
     "output_type": "execute_result"
    },
    {
     "data": {
      "image/png": "[encoded data removed]",
      "text/plain": [
       "<Figure size 432x288 with 1 Axes>"
      ]
     },
     "metadata": {
      "needs_background": "light"
     },
     "output_type": "display_data"
    }
   ],
   "source": [
    "listOfNodes = [3,10,30,100,300,1000,3000,10000,15000,20000,25000,30000]\n",
    "listOfNumberRotations = []\n",
    "listOfNodesSize = []\n",
    "listOfSearchTimes = []\n",
    "listOfInsertTimes = []\n",
    "\n",
    "\n",
    "for numNodes in listOfNodes:\n",
    "    \n",
    "    for numberTrials in range(50):\n",
    "        numberRotations = 0\n",
    "        trial = timeTrial( numNodes )\n",
    "        \n",
    "        timeInsert, theTree = trial\n",
    "        \n",
    "        listOfInsertTimes.append(time)\n",
    "        \n",
    "        timeSearch = searchTrial(theTree,numNodes)\n",
    "        listOfSearchTimes.append(timeSearch)\n",
    "        \n",
    "        listOfNumberRotations.append(numberRotations)\n",
    "        listOfNodesSize.append(numNodes)\n",
    "        \n",
    "        plt.scatter( numNodes ,timeInsert,50)\n",
    "        \n",
    "\n",
    "plt.ylabel(\"Time\")\n",
    "plt.xlabel(\"Number of n in the Tree\")"
   ]
  },
  {
   "cell_type": "code",
   "execution_count": 37,
   "id": "292e475b",
   "metadata": {},
   "outputs": [
    {
     "data": {
      "text/plain": [
       "Text(0.5, 0, 'Number of n in the Tree')"
      ]
     },
     "execution_count": 37,
     "metadata": {},
     "output_type": "execute_result"
    },
    {
     "data": {
      "image/png": "[encoded data removed]",
      "text/plain": [
       "<Figure size 432x288 with 1 Axes>"
      ]
     },
     "metadata": {
      "needs_background": "light"
     },
     "output_type": "display_data"
    }
   ],
   "source": [
    "for x in range( len( listOfNumberRotations ) ):\n",
    "    plt.scatter( listOfNodesSize[x], listOfNumberRotations[x], 50)\n",
    "    \n",
    "plt.ylabel(\"Number of Rotations\")\n",
    "plt.xlabel(\"Number of n in the Tree\")"
   ]
  },
  {
   "cell_type": "code",
   "execution_count": 38,
   "id": "305f9c4c",
   "metadata": {},
   "outputs": [
    {
     "data": {
      "text/plain": [
       "Text(0.5, 0, 'Number of n in the Tree')"
      ]
     },
     "execution_count": 38,
     "metadata": {},
     "output_type": "execute_result"
    },
    {
     "data": {
      "image/png": "[encoded data removed]",
      "text/plain": [
       "<Figure size 432x288 with 1 Axes>"
      ]
     },
     "metadata": {
      "needs_background": "light"
     },
     "output_type": "display_data"
    }
   ],
   "source": [
    "for x in range( len( listOfSearchTimes ) ):\n",
    "    plt.scatter( listOfNodesSize[x], listOfSearchTimes[x], 50 )\n",
    "    \n",
    "plt.ylabel(\"Search Time\")\n",
    "plt.xlabel(\"Number of n in the Tree\")"
   ]
  },
  {
   "cell_type": "code",
   "execution_count": 104,
   "id": "57a6e1df-0aa3-45d3-a1b3-07b9fa8ae1f8",
   "metadata": {},
   "outputs": [],
   "source": [
    "def my_rbtree_to_graphviz(tree):\n",
    "    queue=[tree.root]\n",
    "    print(\"graph {\")\n",
    "    while len(queue)>0:\n",
    "        new_node =queue.pop(0)\n",
    "        if(new_node.rOb==0):\n",
    "            #graphRb.attr('node', color='black')\n",
    "            #graphRb.node(str(new_node.key))\n",
    "            print(new_node.key,\"[color=black]\")\n",
    "        else: \n",
    "            #graphRb.attr('node', color='red')\n",
    "            #graphRb.node(str(new_node.key))\n",
    "            print(new_node.key,\"[color=red]\")\n",
    "        \n",
    "        if new_node.parent is not None:\n",
    "            #graphRb.edge(str(new_node.parent.key),str(new_node.key))\n",
    "            print(new_node.parent.key,\"--\",new_node.key)\n",
    "        if new_node.left_child is not None:\n",
    "            queue.append(new_node.left_child)\n",
    "        if new_node.right_child is not None:\n",
    "            queue.append(new_node.right_child)\n",
    "    print(\"}\")"
   ]
  },
  {
   "cell_type": "code",
   "execution_count": 110,
   "id": "93a1824c-7bad-492c-8141-6b446c08bcdb",
   "metadata": {},
   "outputs": [],
   "source": [
    "import graphviz\n",
    "from graphviz import Digraph"
   ]
  },
  {
   "cell_type": "code",
   "execution_count": 121,
   "id": "2c62ad66-c20a-4622-a4e5-53179d1b2724",
   "metadata": {},
   "outputs": [],
   "source": [
    "testTree1 = RBTree()\n",
    "testTree1.add(7,7)\n",
    "testTree1.add(2,2)\n",
    "testTree1.add(8,8)\n",
    "testTree1.add(11,11)\n",
    "testTree1.add(9,9)"
   ]
  },
  {
   "cell_type": "code",
   "execution_count": 122,
   "id": "3bf30999-3d82-4a45-94a0-841270e4ebbd",
   "metadata": {},
   "outputs": [
    {
     "name": "stdout",
     "output_type": "stream",
     "text": [
      "graph {\n",
      "7 [color=black]\n",
      "2 [color=black]\n",
      "7 -- 2\n",
      "9 [color=black]\n",
      "7 -- 9\n",
      "8 [color=red]\n",
      "9 -- 8\n",
      "11 [color=red]\n",
      "9 -- 11\n",
      "}\n"
     ]
    }
   ],
   "source": [
    "graphRb = graphviz.Graph()\n",
    "my_rbtree_to_graphviz(testTree1)"
   ]
  }
 ],
 "metadata": {
  "kernelspec": {
   "display_name": "Python 3 (ipykernel)",
   "language": "python",
   "name": "python3"
  },
  "language_info": {
   "codemirror_mode": {
    "name": "ipython",
    "version": 3
   },
   "file_extension": ".py",
   "mimetype": "text/x-python",
   "name": "python",
   "nbconvert_exporter": "python",
   "pygments_lexer": "ipython3",
   "version": "3.9.7"
  }
 },
 "nbformat": 4,
 "nbformat_minor": 5
}
