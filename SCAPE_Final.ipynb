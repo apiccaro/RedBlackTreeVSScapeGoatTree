{
 "cells": [
  {
   "cell_type": "code",
   "execution_count": 14,
   "id": "ba851add-cb7e-4224-b399-5992e6f74bab",
   "metadata": {},
   "outputs": [],
   "source": [
    "import numpy as np\n",
    "import matplotlib.pyplot as plt\n",
    "import math"
   ]
  },
  {
   "cell_type": "code",
   "execution_count": 15,
   "id": "c86a54c8-9e92-41c6-833b-2be8154a4ed5",
   "metadata": {},
   "outputs": [],
   "source": [
    "class Node():\n",
    "    def __init__(self, key, value):\n",
    "        self.key = key\n",
    "        self.value = value\n",
    "        self.parent = None\n",
    "        self.left_child = None\n",
    "        self.right_child = None \n",
    "        \n",
    "        \n",
    "    #### FOR TESTING ####\n",
    "    \n",
    "    def get_key(self): \n",
    "        return self.key\n",
    "    \n",
    "    def get_parent(self): #FOR TESTING\n",
    "        return self.parent.get_key()\n",
    "    \n",
    "    def get_left(self):\n",
    "        return self.left_child.get_key()\n",
    "    \n",
    "    def get_right(self):\n",
    "        return self.right_child.get_key()"
   ]
  },
  {
   "cell_type": "code",
   "execution_count": 26,
   "id": "80e38d7a-5f4e-4716-9956-1b88e0f61771",
   "metadata": {},
   "outputs": [],
   "source": [
    "class ScapegoatTree:\n",
    "    def __init__(self):\n",
    "        self.root = None\n",
    "        self.size = 0\n",
    "\n",
    "    def insert(self, key, value):\n",
    "        node_to_insert = Node(key, value)\n",
    "        \n",
    "        # BASE CASE TO COVER IF THERE IS NOTHING IN THE TREE\n",
    "        if self.root is None:\n",
    "            self.root = Node(key, value)\n",
    "            self.size += 1\n",
    "            return\n",
    "        \n",
    "        try:\n",
    "            self.update(key, value)\n",
    "            \n",
    "        except KeyError:\n",
    "        #Use BS to find the node's correct place at the bottom of the tree: \n",
    "            this_node = self.root\n",
    "            while this_node is not None:\n",
    "                temp = this_node\n",
    "                if node_to_insert.key < this_node.key:\n",
    "                    this_node = this_node.left_child\n",
    "                else:\n",
    "                    this_node = this_node.right_child\n",
    "            self.size += 1\n",
    "\n",
    "\n",
    "            # reassign pointers \n",
    "            node_to_insert.parent = temp\n",
    "            if node_to_insert.key < node_to_insert.parent.key:\n",
    "                node_to_insert.parent.left_child = node_to_insert\n",
    "            else:\n",
    "                node_to_insert.parent.right_child = node_to_insert\n",
    "            node_to_insert.left_child = None\n",
    "            node_to_insert.right_child = None\n",
    "\n",
    "            scapegoat = self.find_scapegoat(node_to_insert)\n",
    "            if scapegoat is None:\n",
    "                return\n",
    "\n",
    "            new_sub_root = self.rebalance(scapegoat)\n",
    "\n",
    "            #Assign the correct pointers to and from scapegoat\n",
    "            scapegoat.left_child = new_sub_root.left_child\n",
    "            scapegoat.right_child = new_sub_root.right_child\n",
    "            scapegoat.key = new_sub_root.key\n",
    "            scapegoat.value = new_sub_root.value\n",
    "            scapegoat.left_child.parent = scapegoat\n",
    "            scapegoat.right_child.parent = scapegoat\n",
    "            \n",
    "    def update(self, key, value):\n",
    "        node = self.search(key)\n",
    "        node.value = value\n",
    "        \n",
    "    def search(self, key):\n",
    "        return self.recursive_search(self.root, key)\n",
    "    \n",
    "    def recursive_search(self, sub_root, key):\n",
    "        if sub_root.key == key:\n",
    "            return sub_root\n",
    "        else:\n",
    "            if key < sub_root.key:\n",
    "                if sub_root.left_child is None:\n",
    "                    raise KeyError\n",
    "                else:\n",
    "                    return self.recursive_search(sub_root.left_child, key)\n",
    "            else:\n",
    "                if sub_root.right_child is None:\n",
    "                    raise KeyError\n",
    "                else:\n",
    "                    return self.recursive_search(sub_root.right_child, key)\n",
    "\n",
    "    def find_scapegoat(self, node):\n",
    "        if node == self.root:\n",
    "            return None\n",
    "        while self.is_balanced(node):\n",
    "            if node == self.root:\n",
    "                return None\n",
    "            node = node.parent \n",
    "        return node\n",
    "\n",
    "    def is_balanced(self, node):\n",
    "        node_size = self.subtree_size(node.left_child) - self.subtree_size(node.right_child)\n",
    "        if node_size <= 1 and node_size >= -1:\n",
    "            return True\n",
    "        return False\n",
    " \n",
    "    def subtree_size(self, node):\n",
    "        #recursively calculates the size of the subtree of an input node \n",
    "        if node == None:\n",
    "            return 0\n",
    "        return self.subtree_size(node.left_child) + self.subtree_size(node.right_child) + 1 \n",
    "\n",
    "    def rebalance(self, root):\n",
    "        \n",
    "        global numberRotations\n",
    "        numberRotations += 1\n",
    "        \n",
    "        def make_flat(node, nodes):\n",
    "            if node == None:\n",
    "                return\n",
    "            make_flat(node.left_child, descendants)\n",
    "            descendants.append(node)\n",
    "            make_flat(node.right_child, descendants)\n",
    "\n",
    "        def rebuild(descendants, start, end):\n",
    "            # build a BST from a sorted list \n",
    "            # base case: \n",
    "            if start > end:\n",
    "                return None\n",
    "            \n",
    "            middle = int(math.ceil(start + (end - start) / 2.0))\n",
    "            node = Node(descendants[middle].key, descendants[middle].value)\n",
    "            \n",
    "            # recursively reassign pointers\n",
    "            node.left_child = rebuild(descendants, start, middle-1)\n",
    "            if node.left_child is not None:\n",
    "                node.left_child.parent = node  \n",
    "            node.right_child = rebuild(descendants, middle+1, end)\n",
    "            if node.right_child is not None:\n",
    "                node.right_child.parent = node \n",
    "            return node\n",
    "\n",
    "        descendants = []\n",
    "        make_flat(root, descendants)\n",
    "        return rebuild(descendants, 0, len(descendants)-1)"
   ]
  },
  {
   "cell_type": "code",
   "execution_count": 22,
   "id": "02ac3d4e",
   "metadata": {},
   "outputs": [],
   "source": [
    "def timeTrial(n):\n",
    "    import random \n",
    "    import time\n",
    "    listVal = []\n",
    "    tree = ScapegoatTree()\n",
    "\n",
    "    for nodes in range(n):\n",
    "        listVal.append(nodes)\n",
    "\n",
    "    random.shuffle(listVal)\n",
    "\n",
    "    timeStart = time.time()\n",
    "\n",
    "    for y in listVal:\n",
    "        #print(\"Add\",y)\n",
    "        tree.insert(y, y)\n",
    "        \n",
    "    timeEnd = time.time()\n",
    "    #print(\"size\",tree.size)\n",
    "    return [ (timeEnd - timeStart), tree]\n",
    "    \n",
    "def searchTrial(theTree,numNodes):\n",
    "    import time\n",
    "    timeStart = time.time()\n",
    "    \n",
    "    for x in range(numNodes):\n",
    "        #print (x)\n",
    "        theTree.search(x)\n",
    "    \n",
    "    timeEnd = time.time()\n",
    "    \n",
    "    return timeEnd - timeStart"
   ]
  },
  {
   "cell_type": "code",
   "execution_count": 30,
   "id": "0718cc9a",
   "metadata": {},
   "outputs": [
    {
     "name": "stdout",
     "output_type": "stream",
     "text": [
      "3\n",
      "10\n",
      "30\n",
      "100\n",
      "300\n",
      "1000\n",
      "3000\n",
      "10000\n",
      "15000\n",
      "20000\n",
      "25000\n",
      "30000\n"
     ]
    },
    {
     "data": {
      "text/plain": [
       "Text(0.5, 0, 'Number of n in the Tree')"
      ]
     },
     "execution_count": 30,
     "metadata": {},
     "output_type": "execute_result"
    },
    {
     "data": {
      "image/png": "[encoded data removed]",
      "text/plain": [
       "<Figure size 432x288 with 1 Axes>"
      ]
     },
     "metadata": {
      "needs_background": "light"
     },
     "output_type": "display_data"
    }
   ],
   "source": [
    "listOfNodes = [3,10,30,100,300,1000,3000,10000,15000,20000,25000,30000]\n",
    "listOfNumberRotations = []\n",
    "listOfNodesSize = []\n",
    "listOfSpaceNeeded = []\n",
    "listOfSearchTimes = []\n",
    "\n",
    "\n",
    "for numNodes in listOfNodes:\n",
    "    print (numNodes)\n",
    "    \n",
    "    for numberTrials in range(50):\n",
    "        numberRotations = 0\n",
    "        trial = timeTrial( numNodes )\n",
    "        \n",
    "        timeInsert, theTree = trial\n",
    "        \n",
    "        timeSearch = searchTrial(theTree,numNodes)\n",
    "        listOfSearchTimes.append(timeSearch)\n",
    "        \n",
    "        listOfNumberRotations.append(numberRotations)\n",
    "        listOfNodesSize.append(numNodes)\n",
    "        \n",
    "        plt.scatter( numNodes ,timeInsert,50)\n",
    "        \n",
    "\n",
    "plt.ylabel(\"Time\")\n",
    "plt.xlabel(\"Number of n in the Tree\")"
   ]
  },
  {
   "cell_type": "code",
   "execution_count": 31,
   "id": "dd7baaf0",
   "metadata": {},
   "outputs": [
    {
     "data": {
      "text/plain": [
       "Text(0.5, 0, 'Number of n in the Tree')"
      ]
     },
     "execution_count": 31,
     "metadata": {},
     "output_type": "execute_result"
    },
    {
     "data": {
      "image/png": "[encoded data removed]",
      "text/plain": [
       "<Figure size 432x288 with 1 Axes>"
      ]
     },
     "metadata": {
      "needs_background": "light"
     },
     "output_type": "display_data"
    }
   ],
   "source": [
    "for x in range( len( listOfNumberRotations ) ):\n",
    "    plt.scatter( listOfNodesSize[x], listOfNumberRotations[x], 50)\n",
    "    \n",
    "plt.ylabel(\"Number of Rotations\")\n",
    "plt.xlabel(\"Number of n in the Tree\")"
   ]
  },
  {
   "cell_type": "code",
   "execution_count": 32,
   "id": "bec9469a",
   "metadata": {},
   "outputs": [
    {
     "data": {
      "text/plain": [
       "Text(0.5, 0, 'Number of n in the Tree')"
      ]
     },
     "execution_count": 32,
     "metadata": {},
     "output_type": "execute_result"
    },
    {
     "data": {
      "image/png": "[encoded data removed]",
      "text/plain": [
       "<Figure size 432x288 with 1 Axes>"
      ]
     },
     "metadata": {
      "needs_background": "light"
     },
     "output_type": "display_data"
    }
   ],
   "source": [
    "for x in range( len( listOfSearchTimes ) ):\n",
    "    plt.scatter( listOfNodesSize[x], listOfSearchTimes[x], 50 )\n",
    "    \n",
    "plt.ylabel(\"Search Time\")\n",
    "plt.xlabel(\"Number of n in the Tree\")"
   ]
  },
  {
   "cell_type": "code",
   "execution_count": 5,
   "id": "769b493a-051f-40ae-93e8-1e0538c3fce0",
   "metadata": {},
   "outputs": [],
   "source": [
    "def my_tree_to_nx_graph(tree):\n",
    "    graph = nx.Graph()\n",
    "    queue = [tree.root]\n",
    "    while len(queue) > 0:\n",
    "        new_node = queue.pop(0)\n",
    "        \n",
    "        graph.add_node(new_node.key, label=new_node.value)\n",
    "        if new_node.parent is not None:\n",
    "            graph.add_edge(new_node.key, new_node.parent.key)\n",
    "        if new_node.left_child is not None:\n",
    "            queue.append(new_node.left_child)\n",
    "        if new_node.right_child is not None:\n",
    "            queue.append(new_node.right_child)\n",
    "    return graph"
   ]
  },
  {
   "cell_type": "code",
   "execution_count": 6,
   "id": "ffec3aae-9be9-4b60-b168-f8e864a4b201",
   "metadata": {},
   "outputs": [],
   "source": [
    "import networkx as nx"
   ]
  },
  {
   "cell_type": "code",
   "execution_count": 7,
   "id": "c7534b3c-dda7-4790-8470-397887f79f9d",
   "metadata": {},
   "outputs": [
    {
     "ename": "AttributeError",
     "evalue": "'NoneType' object has no attribute 'key'",
     "output_type": "error",
     "traceback": [
      "\u001b[1;31m---------------------------------------------------------------------------\u001b[0m",
      "\u001b[1;31mAttributeError\u001b[0m                            Traceback (most recent call last)",
      "\u001b[1;32m~\\AppData\\Local\\Temp/ipykernel_27240/847428764.py\u001b[0m in \u001b[0;36m<module>\u001b[1;34m\u001b[0m\n\u001b[1;32m----> 1\u001b[1;33m \u001b[0mmy_bst_graph\u001b[0m \u001b[1;33m=\u001b[0m \u001b[0mmy_tree_to_nx_graph\u001b[0m\u001b[1;33m(\u001b[0m\u001b[0mtree\u001b[0m\u001b[1;33m)\u001b[0m\u001b[1;33m\u001b[0m\u001b[1;33m\u001b[0m\u001b[0m\n\u001b[0m",
      "\u001b[1;32m~\\AppData\\Local\\Temp/ipykernel_27240/3708140237.py\u001b[0m in \u001b[0;36mmy_tree_to_nx_graph\u001b[1;34m(tree)\u001b[0m\n\u001b[0;32m      5\u001b[0m         \u001b[0mnew_node\u001b[0m \u001b[1;33m=\u001b[0m \u001b[0mqueue\u001b[0m\u001b[1;33m.\u001b[0m\u001b[0mpop\u001b[0m\u001b[1;33m(\u001b[0m\u001b[1;36m0\u001b[0m\u001b[1;33m)\u001b[0m\u001b[1;33m\u001b[0m\u001b[1;33m\u001b[0m\u001b[0m\n\u001b[0;32m      6\u001b[0m \u001b[1;33m\u001b[0m\u001b[0m\n\u001b[1;32m----> 7\u001b[1;33m         \u001b[0mgraph\u001b[0m\u001b[1;33m.\u001b[0m\u001b[0madd_node\u001b[0m\u001b[1;33m(\u001b[0m\u001b[0mnew_node\u001b[0m\u001b[1;33m.\u001b[0m\u001b[0mkey\u001b[0m\u001b[1;33m,\u001b[0m \u001b[0mlabel\u001b[0m\u001b[1;33m=\u001b[0m\u001b[0mnew_node\u001b[0m\u001b[1;33m.\u001b[0m\u001b[0mvalue\u001b[0m\u001b[1;33m)\u001b[0m\u001b[1;33m\u001b[0m\u001b[1;33m\u001b[0m\u001b[0m\n\u001b[0m\u001b[0;32m      8\u001b[0m         \u001b[1;32mif\u001b[0m \u001b[0mnew_node\u001b[0m\u001b[1;33m.\u001b[0m\u001b[0mparent\u001b[0m \u001b[1;32mis\u001b[0m \u001b[1;32mnot\u001b[0m \u001b[1;32mNone\u001b[0m\u001b[1;33m:\u001b[0m\u001b[1;33m\u001b[0m\u001b[1;33m\u001b[0m\u001b[0m\n\u001b[0;32m      9\u001b[0m             \u001b[0mgraph\u001b[0m\u001b[1;33m.\u001b[0m\u001b[0madd_edge\u001b[0m\u001b[1;33m(\u001b[0m\u001b[0mnew_node\u001b[0m\u001b[1;33m.\u001b[0m\u001b[0mkey\u001b[0m\u001b[1;33m,\u001b[0m \u001b[0mnew_node\u001b[0m\u001b[1;33m.\u001b[0m\u001b[0mparent\u001b[0m\u001b[1;33m.\u001b[0m\u001b[0mkey\u001b[0m\u001b[1;33m)\u001b[0m\u001b[1;33m\u001b[0m\u001b[1;33m\u001b[0m\u001b[0m\n",
      "\u001b[1;31mAttributeError\u001b[0m: 'NoneType' object has no attribute 'key'"
     ]
    }
   ],
   "source": [
    "my_bst_graph = my_tree_to_nx_graph(tree)"
   ]
  },
  {
   "cell_type": "code",
   "execution_count": 8,
   "id": "dba681db-203e-468c-bbfb-a0bd0dc4ea6f",
   "metadata": {},
   "outputs": [
    {
     "ename": "NameError",
     "evalue": "name 'my_bst_graph' is not defined",
     "output_type": "error",
     "traceback": [
      "\u001b[1;31m---------------------------------------------------------------------------\u001b[0m",
      "\u001b[1;31mNameError\u001b[0m                                 Traceback (most recent call last)",
      "\u001b[1;32m~\\AppData\\Local\\Temp/ipykernel_27240/1614829843.py\u001b[0m in \u001b[0;36m<module>\u001b[1;34m\u001b[0m\n\u001b[1;32m----> 1\u001b[1;33m \u001b[0mlabels\u001b[0m \u001b[1;33m=\u001b[0m \u001b[0mnx\u001b[0m\u001b[1;33m.\u001b[0m\u001b[0mget_node_attributes\u001b[0m\u001b[1;33m(\u001b[0m\u001b[0mmy_bst_graph\u001b[0m\u001b[1;33m,\u001b[0m \u001b[1;34m'label'\u001b[0m\u001b[1;33m)\u001b[0m\u001b[1;33m\u001b[0m\u001b[1;33m\u001b[0m\u001b[0m\n\u001b[0m\u001b[0;32m      2\u001b[0m \u001b[0mnx\u001b[0m\u001b[1;33m.\u001b[0m\u001b[0mdraw\u001b[0m\u001b[1;33m(\u001b[0m\u001b[0mmy_bst_graph\u001b[0m\u001b[1;33m,\u001b[0m \u001b[0mlabels\u001b[0m\u001b[1;33m=\u001b[0m\u001b[0mlabels\u001b[0m\u001b[1;33m)\u001b[0m\u001b[1;33m\u001b[0m\u001b[1;33m\u001b[0m\u001b[0m\n",
      "\u001b[1;31mNameError\u001b[0m: name 'my_bst_graph' is not defined"
     ]
    }
   ],
   "source": [
    "labels = nx.get_node_attributes(my_bst_graph, 'label') \n",
    "nx.draw(my_bst_graph, labels=labels)"
   ]
  }
 ],
 "metadata": {
  "kernelspec": {
   "display_name": "Python 3 (ipykernel)",
   "language": "python",
   "name": "python3"
  },
  "language_info": {
   "codemirror_mode": {
    "name": "ipython",
    "version": 3
   },
   "file_extension": ".py",
   "mimetype": "text/x-python",
   "name": "python",
   "nbconvert_exporter": "python",
   "pygments_lexer": "ipython3",
   "version": "3.9.7"
  }
 },
 "nbformat": 4,
 "nbformat_minor": 5
}
